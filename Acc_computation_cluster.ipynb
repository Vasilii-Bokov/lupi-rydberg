{
 "cells": [
  {
   "cell_type": "code",
   "execution_count": 7,
   "id": "4e162833-e2d2-45a6-87dc-7ef80afba9c3",
   "metadata": {
    "pycharm": {
     "name": "#%%\n"
    }
   },
   "outputs": [
    {
     "name": "stdout",
     "output_type": "stream",
     "text": [
      "The autoreload extension is already loaded. To reload it, use:\n",
      "  %reload_ext autoreload\n"
     ]
    }
   ],
   "source": [
    "import numpy as np\n",
    "import pickle\n",
    "from time import time\n",
    "from joblib import Parallel, delayed\n",
    "import sys\n",
    "from src.models.mlp import MLP\n",
    "from src.eval import RydbergEvaluator\n",
    "from src.eval.eval_rydberg import est_density_from_z_measurements,determine_phase_1D,est_order_param_1D,phase2img,est_phase_diagram,est_order_param_1D_fourier_from_measurements,est_order_param_1D_fourier,est_order_param_1D_from_measurements\n",
    "from src.data.loading.dataset_rydberg import RydbergDataset,unif_sample_on_grid\n",
    "# Transformer\n",
    "import argparse\n",
    "from constants import *\n",
    "from src.training.rydberg_trainers import RydbergConditionalTransformerTrainer\n",
    "from src.models.transformer import init_conditional_transformer\n",
    "from src.models.mlp import MLP\n",
    "\n",
    "\n",
    "import torch\n",
    "import pandas as pd\n",
    "import warnings\n",
    "import matplotlib.pyplot as plt\n",
    "import matplotlib\n",
    "import seaborn as sns\n",
    "from tqdm.notebook import tqdm,trange\n",
    "import os\n",
    "\n",
    "from src.utils import plot_phase_diagram\n",
    "\n",
    "warnings.filterwarnings('ignore')\n",
    "%load_ext autoreload\n",
    "%autoreload 2\n",
    "%matplotlib inline\n"
   ]
  },
  {
   "cell_type": "code",
   "execution_count": 8,
   "id": "87b3eef0-667a-4656-bee5-a302630a695f",
   "metadata": {
    "pycharm": {
     "name": "#%%\n"
    }
   },
   "outputs": [],
   "source": [
    "# Here we define a base schedule -- \n",
    "base_time = 3.5\n",
    "ts = np.array([0,0.2,base_time])\n",
    "omegas = np.array([0, 5, 5])\n",
    "deltas = np.array([-10, -10, 15])\n",
    "total_time = 15 # Total adiabatic evolution time of the Bloqade simulation\n",
    "# We propotionally lengthen the schedules for Omega and Delta by time_ratio = total_time/base_time\n",
    "time_ratio = total_time/base_time"
   ]
  },
  {
   "cell_type": "markdown",
   "id": "6f93b11a-94c8-4878-9481-4e76a48d964c",
   "metadata": {
    "pycharm": {
     "name": "#%% md\n"
    }
   },
   "source": [
    "Now we load simulated data."
   ]
  },
  {
   "cell_type": "code",
   "execution_count": 9,
   "id": "d5252700",
   "metadata": {},
   "outputs": [
    {
     "data": {
      "text/plain": [
       "'data/1D-Phase_31/1D-Phase_31/15.0µs/'"
      ]
     },
     "execution_count": 9,
     "metadata": {},
     "output_type": "execute_result"
    }
   ],
   "source": [
    "n_qubits = 31 # number of Rydberg atoms in the 1D lattice\n",
    "\n",
    "dim=1 # dimension of the system\n",
    "ny = 1 # since we are working in 1D, this variable is fixed to 1\n",
    "nx = n_qubits # effectively, we are working on a 2D lattice of dimensions nx*ny, where nx=n_qubits and ny=1.\n",
    "z2_threshold=0.7 # threshold for the Z2 order parameter to determine a state is in Z2 phase\n",
    "z3_threshold = 0.6 # threshold for the Z3 order parameter to determine a state is in Z3 phase\n",
    "\n",
    "# We load simulation data for the lattice defined above with the adiabatic evolution scheduler preset above.\n",
    "folder = f'data/1D-Phase_{nx}/1D-Phase_{nx}/{float(np.round(total_time,2))}µs/'\n",
    "folder"
   ]
  },
  {
   "cell_type": "code",
   "execution_count": 10,
   "id": "128640a1-a12c-48c3-a942-c322f543916d",
   "metadata": {
    "pycharm": {
     "name": "#%%\n"
    }
   },
   "outputs": [],
   "source": [
    "# extra variables we want the conditional generative variable to condition on, except for \"nx\", \"ny\", \"interaction_range\".\n",
    "# detuning = Delta/Omega\n",
    "extra_variables = [\"detuning\",] \n",
    "meta_dataset = RydbergDataset(dim=dim,nx = nx, ny=ny, folder=folder,n_threads=1, \n",
    "                                         var_name='interaction_range',variables = extra_variables) \n",
    "meta_dataset.est_order_params()\n",
    "meta_dataset.info[\"phase\" ] = determine_phase_1D(meta_dataset.info[\"Z2\"], meta_dataset.info[\"Z3\"],z2_threshold=z2_threshold,\n",
    "                                                z3_threshold=z3_threshold\n",
    "                                            )"
   ]
  },
  {
   "cell_type": "code",
   "execution_count": 11,
   "id": "9e703d34",
   "metadata": {},
   "outputs": [
    {
     "data": {
      "text/plain": [
       "12480"
      ]
     },
     "execution_count": 11,
     "metadata": {},
     "output_type": "execute_result"
    }
   ],
   "source": [
    "meta_dataset.info.size"
   ]
  },
  {
   "cell_type": "code",
   "execution_count": 12,
   "id": "36eea258",
   "metadata": {},
   "outputs": [],
   "source": [
    "N = 30"
   ]
  },
  {
   "cell_type": "code",
   "execution_count": 13,
   "id": "c41f2725-555e-4986-ac74-fe125952f40a",
   "metadata": {
    "pycharm": {
     "name": "#%%\n"
    }
   },
   "outputs": [],
   "source": [
    "train_idxes = np.load(f'logs/rydberg_1D_boundary/{N}/train_idxes.npy')\n",
    "train_set = pickle.load(open(f'logs/rydberg_1D_boundary/{N}/train_set.pkl','rb'))"
   ]
  },
  {
   "cell_type": "code",
   "execution_count": 14,
   "id": "85271aff",
   "metadata": {},
   "outputs": [
    {
     "data": {
      "text/plain": [
       "array([1380,  488, 1454, 1300,  980, 1542,  739, 1394,  349,  383, 1142,\n",
       "        612,  913,  939,  431,  302,  508,  981,  817,  146,  997, 1100,\n",
       "        140,  271,  597,  861,  715, 1145, 1466, 1543])"
      ]
     },
     "execution_count": 14,
     "metadata": {},
     "output_type": "execute_result"
    }
   ],
   "source": [
    "train_idxes"
   ]
  },
  {
   "cell_type": "code",
   "execution_count": 15,
   "id": "4c9e3961",
   "metadata": {},
   "outputs": [],
   "source": [
    "import random\n",
    "\n",
    "# This will consistently give you the same ordering\n",
    "train_set_keys = list(train_set.keys())\n",
    "train_set_values = list(train_set.values())\n",
    "\n",
    "# Select N random indices\n",
    "selected_indices = random.sample(range(len(train_set_keys)), N)\n",
    "\n",
    "# These will correspond to the same positions\n",
    "selected_dict_items = {train_set_keys[i]: train_set[train_set_keys[i]] for i in selected_indices}\n",
    "selected_array_items = [train_idxes[i] for i in selected_indices]"
   ]
  },
  {
   "cell_type": "code",
   "execution_count": 16,
   "id": "c8deac13",
   "metadata": {},
   "outputs": [],
   "source": [
    "train_set = selected_dict_items\n",
    "train_idxes = selected_array_items"
   ]
  },
  {
   "cell_type": "code",
   "execution_count": 18,
   "id": "82c67731-51f4-4880-aa48-c16f8e530ea4",
   "metadata": {},
   "outputs": [],
   "source": [
    "def parse_args(args=[]):\n",
    "    parser = argparse.ArgumentParser()\n",
    "    parser.add_argument('--data-dir', type=str, default='logs/rydberg/debug/')\n",
    "    parser.add_argument('--dim',type=int,default=1)\n",
    "    parser.add_argument('--nx',type=int,default=19)\n",
    "    parser.add_argument('--ny',type=int,default=1)\n",
    "    parser.add_argument('--total_time',type=float,default=6)\n",
    "    parser.add_argument('--tf-arch', type=str, default='transformer_l4_d128_h4')\n",
    "    parser.add_argument('--train-id', type=str, default=\"debug\")\n",
    "    parser.add_argument('--reps', type=int, default=1)\n",
    "    parser.add_argument('--ns', type=int, default=800, help='number of samples per hamiltonian')\n",
    "    parser.add_argument('--iterations', type=int, default=50000, help=\"training iterations\")\n",
    "    parser.add_argument('--eval-every', type=int, default=100)\n",
    "    parser.add_argument('--eval-samples', type=int, default=10000, help='number of generated samples for evaluation')\n",
    "    parser.add_argument('--k', type=int, default=1, help='number of buckets for median of means estimation')\n",
    "    parser.add_argument('--n_cpu', type=int, default=8, help='number of cpu threads to use during batch generation')\n",
    "    parser.add_argument('--verbose', type=int, default=1, choices=[0, 1])\n",
    "    parser.add_argument('--epoch-mode', type=int, default=1, choices=[0, 1])\n",
    "    parser.add_argument('--condition-mode', type=int, default=0, choices=[0, 1])\n",
    "    parser.add_argument('--seed', type=int, default=None)\n",
    "    return parser.parse_args(args)\n",
    "\n",
    "def get_hyperparams(**kwargs):\n",
    "    hparams = argparse.Namespace(\n",
    "        lr=1e-3,\n",
    "        wd=0,\n",
    "        bs=512,\n",
    "        dropout=0.0,\n",
    "        lr_scheduler=WARMUP_COSINE_SCHEDULER,\n",
    "        warmup_frac=0.,\n",
    "        final_lr=1e-7,\n",
    "        smoothing=0.0,\n",
    "        use_padding=0,\n",
    "        val_frac=0.25,\n",
    "        cattn=0\n",
    "    )\n",
    "\n",
    "    for k, v in kwargs.items():\n",
    "        setattr(hparams, k, v)\n",
    "\n",
    "    return hparams\n",
    "args = parse_args()\n",
    "hparams = get_hyperparams()"
   ]
  },
  {
   "cell_type": "code",
   "execution_count": 19,
   "id": "dda65c7b",
   "metadata": {},
   "outputs": [],
   "source": [
    "model_name = f'transformer_boundary_nq-{n_qubits}_iter-{args.iterations//1000}k'"
   ]
  },
  {
   "cell_type": "code",
   "execution_count": 22,
   "id": "cae779ee",
   "metadata": {
    "pycharm": {
     "name": "#%%\n"
    }
   },
   "outputs": [],
   "source": [
    "ckpt_path = f'logs/rydberg_1D_boundary/{N}/{model_name}.pth'\n",
    "transformer = torch.load(ckpt_path, map_location='cpu')\n",
    "\n",
    "# Force the model to CPU and update its device attribute\n",
    "transformer = transformer.to('cpu')\n",
    "if hasattr(transformer, 'device'):\n",
    "    transformer.device = torch.device('cpu')"
   ]
  },
  {
   "cell_type": "markdown",
   "id": "ab13e4d5-5e7e-4ebf-ad79-488e58558af7",
   "metadata": {
    "pycharm": {
     "name": "#%% md\n"
    }
   },
   "source": [
    "For every point in the phase diagram, we use the conditional generative model to generate `n_gen_samples` measurements, and then determine the phase by order parameters.\n",
    "\n",
    "The predicted order parameters & phases are saved in the DataFrame `test_df`"
   ]
  },
  {
   "cell_type": "code",
   "execution_count": 23,
   "id": "e79976ae",
   "metadata": {
    "pycharm": {
     "name": "#%%\n"
    }
   },
   "outputs": [],
   "source": [
    "n_gen_samples = 1000\n",
    "order_params = ['Z2','Z3']"
   ]
  },
  {
   "cell_type": "markdown",
   "id": "b056e2ec",
   "metadata": {},
   "source": [
    "**Note.** the measurement generation of the trained model has randomness -- so each run may give slightly different results"
   ]
  },
  {
   "cell_type": "code",
   "execution_count": 27,
   "id": "ec1ea78c",
   "metadata": {},
   "outputs": [
    {
     "data": {
      "text/html": [
       "<div>\n",
       "<style scoped>\n",
       "    .dataframe tbody tr th:only-of-type {\n",
       "        vertical-align: middle;\n",
       "    }\n",
       "\n",
       "    .dataframe tbody tr th {\n",
       "        vertical-align: top;\n",
       "    }\n",
       "\n",
       "    .dataframe thead th {\n",
       "        text-align: right;\n",
       "    }\n",
       "</style>\n",
       "<table border=\"1\" class=\"dataframe\">\n",
       "  <thead>\n",
       "    <tr style=\"text-align: right;\">\n",
       "      <th></th>\n",
       "      <th>nx</th>\n",
       "      <th>ny</th>\n",
       "      <th>interaction_range</th>\n",
       "      <th>detuning</th>\n",
       "      <th>Z2</th>\n",
       "      <th>Z3</th>\n",
       "      <th>Z4</th>\n",
       "      <th>phase</th>\n",
       "    </tr>\n",
       "  </thead>\n",
       "  <tbody>\n",
       "    <tr>\n",
       "      <th>222</th>\n",
       "      <td>31.0</td>\n",
       "      <td>1.0</td>\n",
       "      <td>1.30</td>\n",
       "      <td>0.820513</td>\n",
       "      <td>NaN</td>\n",
       "      <td>NaN</td>\n",
       "      <td>0.466617</td>\n",
       "      <td>Z2</td>\n",
       "    </tr>\n",
       "    <tr>\n",
       "      <th>1026</th>\n",
       "      <td>31.0</td>\n",
       "      <td>1.0</td>\n",
       "      <td>2.30</td>\n",
       "      <td>1.333333</td>\n",
       "      <td>NaN</td>\n",
       "      <td>NaN</td>\n",
       "      <td>0.274985</td>\n",
       "      <td>Z3</td>\n",
       "    </tr>\n",
       "    <tr>\n",
       "      <th>816</th>\n",
       "      <td>31.0</td>\n",
       "      <td>1.0</td>\n",
       "      <td>1.70</td>\n",
       "      <td>0.051282</td>\n",
       "      <td>NaN</td>\n",
       "      <td>NaN</td>\n",
       "      <td>0.282824</td>\n",
       "      <td>Disordered</td>\n",
       "    </tr>\n",
       "    <tr>\n",
       "      <th>344</th>\n",
       "      <td>31.0</td>\n",
       "      <td>1.0</td>\n",
       "      <td>2.75</td>\n",
       "      <td>1.076923</td>\n",
       "      <td>NaN</td>\n",
       "      <td>NaN</td>\n",
       "      <td>0.300289</td>\n",
       "      <td>Disordered</td>\n",
       "    </tr>\n",
       "    <tr>\n",
       "      <th>979</th>\n",
       "      <td>31.0</td>\n",
       "      <td>1.0</td>\n",
       "      <td>2.70</td>\n",
       "      <td>0.435897</td>\n",
       "      <td>NaN</td>\n",
       "      <td>NaN</td>\n",
       "      <td>0.281333</td>\n",
       "      <td>Disordered</td>\n",
       "    </tr>\n",
       "  </tbody>\n",
       "</table>\n",
       "</div>"
      ],
      "text/plain": [
       "        nx   ny  interaction_range  detuning  Z2  Z3        Z4       phase\n",
       "222   31.0  1.0               1.30  0.820513 NaN NaN  0.466617          Z2\n",
       "1026  31.0  1.0               2.30  1.333333 NaN NaN  0.274985          Z3\n",
       "816   31.0  1.0               1.70  0.051282 NaN NaN  0.282824  Disordered\n",
       "344   31.0  1.0               2.75  1.076923 NaN NaN  0.300289  Disordered\n",
       "979   31.0  1.0               2.70  0.435897 NaN NaN  0.281333  Disordered"
      ]
     },
     "execution_count": 27,
     "metadata": {},
     "output_type": "execute_result"
    }
   ],
   "source": [
    "M = 10\n",
    "\n",
    "plot_df = meta_dataset.info.copy()\n",
    "plot_df = plot_df.loc[(plot_df['detuning'] >=-1) & (plot_df['interaction_range'] <= 2.8) & (plot_df['interaction_range'] > 1)]\n",
    "\n",
    "test_df = plot_df.copy()\n",
    "test_df[order_params] = np.nan\n",
    "test_df = test_df.sample(n=M, random_state=42) \n",
    "test_df.head()"
   ]
  },
  {
   "cell_type": "code",
   "execution_count": 28,
   "id": "5f7f5475",
   "metadata": {},
   "outputs": [],
   "source": [
    "# To load later:\n",
    "# test_df = pd.read_csv('test_results.csv', index_col=0)\n",
    "# test_df = pd.read_pickle('test_results.pkl')\n",
    "# with open('densities.pkl', 'rb') as f:\n",
    "#     densities = pickle.load(f)"
   ]
  },
  {
   "cell_type": "code",
   "execution_count": 29,
   "id": "4fba7b87-a9d5-4bc6-acb2-dfac8efd391a",
   "metadata": {
    "pycharm": {
     "name": "#%%\n"
    }
   },
   "outputs": [
    {
     "data": {
      "application/vnd.jupyter.widget-view+json": {
       "model_id": "ae24deed213445ef94657d3814fa75f9",
       "version_major": 2,
       "version_minor": 0
      },
      "text/plain": [
       "Test System:   0%|          | 0/10 [00:00<?, ?it/s]"
      ]
     },
     "metadata": {},
     "output_type": "display_data"
    }
   ],
   "source": [
    "torch.manual_seed(0) # Set seed to ensure reproduction\n",
    "torch.cuda.manual_seed(0)\n",
    "\n",
    "\n",
    "densities = {}\n",
    "transformer.eval()\n",
    "\n",
    "# Here we obtained order parameters from the generative model\n",
    "# The genrative model was trained using trainer.train() step above \n",
    "\n",
    "# M is the number of testing data points we generate with the generative model \n",
    "\n",
    "# We use those test datapoints to plot the phase diagram and compare it with the ground truth \n",
    "\n",
    "\n",
    "for idx in tqdm(test_df.index, \"Test System\"):\n",
    "    key = meta_dataset.keys[idx]\n",
    "    condition = torch.from_numpy(np.array([key])).float()\n",
    "    gen_samples = transformer.sample_batch(cond_var=condition,batch_size=n_gen_samples,\n",
    "                                               num_qubits=n_qubits)\n",
    "    density = gen_samples.mean(axis=0)\n",
    "    densities[idx] = density\n",
    "    for order_param in order_params:\n",
    "        test_df.loc[idx, order_param] = est_order_param_1D_from_measurements(gen_samples,order_param=order_param,\n",
    "                                                                             nx=n_qubits)\n",
    "test_df['phase'] = determine_phase_1D(test_df['Z2'].values, test_df['Z3'].values,z3_threshold=z3_threshold,z2_threshold=z2_threshold)\n",
    "test_df = test_df.sort_values(['phase'])"
   ]
  },
  {
   "cell_type": "code",
   "execution_count": 30,
   "id": "b6238373",
   "metadata": {},
   "outputs": [],
   "source": [
    "# At the end of your code cell, add:\n",
    "\n",
    "# # Save the DataFrame\n",
    "# test_df.to_csv('test_results.csv', index=True)\n",
    "# # or\n",
    "# test_df.to_pickle('test_results.pkl')  # Preserves data types better\n",
    "\n",
    "# # Save the densities dictionary\n",
    "# import pickle\n",
    "# with open('densities.pkl', 'wb') as f:\n",
    "#     pickle.dump(densities, f)\n"
   ]
  },
  {
   "cell_type": "code",
   "execution_count": 31,
   "id": "a15c1868",
   "metadata": {},
   "outputs": [
    {
     "data": {
      "text/html": [
       "<div>\n",
       "<style scoped>\n",
       "    .dataframe tbody tr th:only-of-type {\n",
       "        vertical-align: middle;\n",
       "    }\n",
       "\n",
       "    .dataframe tbody tr th {\n",
       "        vertical-align: top;\n",
       "    }\n",
       "\n",
       "    .dataframe thead th {\n",
       "        text-align: right;\n",
       "    }\n",
       "</style>\n",
       "<table border=\"1\" class=\"dataframe\">\n",
       "  <thead>\n",
       "    <tr style=\"text-align: right;\">\n",
       "      <th></th>\n",
       "      <th>nx</th>\n",
       "      <th>ny</th>\n",
       "      <th>interaction_range</th>\n",
       "      <th>detuning</th>\n",
       "      <th>Z2</th>\n",
       "      <th>Z3</th>\n",
       "      <th>Z4</th>\n",
       "      <th>phase</th>\n",
       "    </tr>\n",
       "  </thead>\n",
       "  <tbody>\n",
       "    <tr>\n",
       "      <th>816</th>\n",
       "      <td>31.0</td>\n",
       "      <td>1.0</td>\n",
       "      <td>1.70</td>\n",
       "      <td>0.051282</td>\n",
       "      <td>0.526948</td>\n",
       "      <td>0.370520</td>\n",
       "      <td>0.282824</td>\n",
       "      <td>Disordered</td>\n",
       "    </tr>\n",
       "    <tr>\n",
       "      <th>344</th>\n",
       "      <td>31.0</td>\n",
       "      <td>1.0</td>\n",
       "      <td>2.75</td>\n",
       "      <td>1.076923</td>\n",
       "      <td>0.559906</td>\n",
       "      <td>0.460888</td>\n",
       "      <td>0.300289</td>\n",
       "      <td>Disordered</td>\n",
       "    </tr>\n",
       "    <tr>\n",
       "      <th>979</th>\n",
       "      <td>31.0</td>\n",
       "      <td>1.0</td>\n",
       "      <td>2.70</td>\n",
       "      <td>0.435897</td>\n",
       "      <td>0.533632</td>\n",
       "      <td>0.414024</td>\n",
       "      <td>0.281333</td>\n",
       "      <td>Disordered</td>\n",
       "    </tr>\n",
       "    <tr>\n",
       "      <th>778</th>\n",
       "      <td>31.0</td>\n",
       "      <td>1.0</td>\n",
       "      <td>1.55</td>\n",
       "      <td>0.307692</td>\n",
       "      <td>0.568137</td>\n",
       "      <td>0.398070</td>\n",
       "      <td>0.299193</td>\n",
       "      <td>Disordered</td>\n",
       "    </tr>\n",
       "    <tr>\n",
       "      <th>496</th>\n",
       "      <td>31.0</td>\n",
       "      <td>1.0</td>\n",
       "      <td>1.85</td>\n",
       "      <td>0.051282</td>\n",
       "      <td>0.536849</td>\n",
       "      <td>0.379615</td>\n",
       "      <td>0.283176</td>\n",
       "      <td>Disordered</td>\n",
       "    </tr>\n",
       "    <tr>\n",
       "      <th>222</th>\n",
       "      <td>31.0</td>\n",
       "      <td>1.0</td>\n",
       "      <td>1.30</td>\n",
       "      <td>0.820513</td>\n",
       "      <td>0.765359</td>\n",
       "      <td>0.407069</td>\n",
       "      <td>0.466617</td>\n",
       "      <td>Z2</td>\n",
       "    </tr>\n",
       "    <tr>\n",
       "      <th>274</th>\n",
       "      <td>31.0</td>\n",
       "      <td>1.0</td>\n",
       "      <td>1.20</td>\n",
       "      <td>2.358974</td>\n",
       "      <td>0.953751</td>\n",
       "      <td>0.377711</td>\n",
       "      <td>0.489126</td>\n",
       "      <td>Z2</td>\n",
       "    </tr>\n",
       "    <tr>\n",
       "      <th>869</th>\n",
       "      <td>31.0</td>\n",
       "      <td>1.0</td>\n",
       "      <td>2.00</td>\n",
       "      <td>1.717949</td>\n",
       "      <td>0.707892</td>\n",
       "      <td>0.409349</td>\n",
       "      <td>0.286203</td>\n",
       "      <td>Z2</td>\n",
       "    </tr>\n",
       "    <tr>\n",
       "      <th>1026</th>\n",
       "      <td>31.0</td>\n",
       "      <td>1.0</td>\n",
       "      <td>2.30</td>\n",
       "      <td>1.333333</td>\n",
       "      <td>0.567597</td>\n",
       "      <td>0.677384</td>\n",
       "      <td>0.274985</td>\n",
       "      <td>Z3</td>\n",
       "    </tr>\n",
       "    <tr>\n",
       "      <th>519</th>\n",
       "      <td>31.0</td>\n",
       "      <td>1.0</td>\n",
       "      <td>1.85</td>\n",
       "      <td>3.000000</td>\n",
       "      <td>0.597142</td>\n",
       "      <td>0.707258</td>\n",
       "      <td>0.462899</td>\n",
       "      <td>Z3</td>\n",
       "    </tr>\n",
       "  </tbody>\n",
       "</table>\n",
       "</div>"
      ],
      "text/plain": [
       "        nx   ny  interaction_range  detuning        Z2        Z3        Z4  \\\n",
       "816   31.0  1.0               1.70  0.051282  0.526948  0.370520  0.282824   \n",
       "344   31.0  1.0               2.75  1.076923  0.559906  0.460888  0.300289   \n",
       "979   31.0  1.0               2.70  0.435897  0.533632  0.414024  0.281333   \n",
       "778   31.0  1.0               1.55  0.307692  0.568137  0.398070  0.299193   \n",
       "496   31.0  1.0               1.85  0.051282  0.536849  0.379615  0.283176   \n",
       "222   31.0  1.0               1.30  0.820513  0.765359  0.407069  0.466617   \n",
       "274   31.0  1.0               1.20  2.358974  0.953751  0.377711  0.489126   \n",
       "869   31.0  1.0               2.00  1.717949  0.707892  0.409349  0.286203   \n",
       "1026  31.0  1.0               2.30  1.333333  0.567597  0.677384  0.274985   \n",
       "519   31.0  1.0               1.85  3.000000  0.597142  0.707258  0.462899   \n",
       "\n",
       "           phase  \n",
       "816   Disordered  \n",
       "344   Disordered  \n",
       "979   Disordered  \n",
       "778   Disordered  \n",
       "496   Disordered  \n",
       "222           Z2  \n",
       "274           Z2  \n",
       "869           Z2  \n",
       "1026          Z3  \n",
       "519           Z3  "
      ]
     },
     "execution_count": 31,
     "metadata": {},
     "output_type": "execute_result"
    }
   ],
   "source": [
    "# # To load later:\n",
    "# test_df = pd.read_csv('test_results.csv', index_col=0)\n",
    "# test_df = pd.read_pickle('test_results.pkl')\n",
    "# with open('densities.pkl', 'rb') as f:\n",
    "#     densities = pickle.load(f)\n",
    "\n",
    "test_df"
   ]
  },
  {
   "cell_type": "markdown",
   "id": "d5202b95-9d59-4a5e-897c-3faaa46fd86a",
   "metadata": {
    "pycharm": {
     "name": "#%% md\n"
    }
   },
   "source": [
    "Now we can compare the phase diagram predicted by our trained model against the ground truth phase diagram."
   ]
  },
  {
   "cell_type": "code",
   "execution_count": 32,
   "id": "891747d2-cf4f-4e81-aada-803aa52f2849",
   "metadata": {
    "pycharm": {
     "name": "#%%\n"
    }
   },
   "outputs": [],
   "source": [
    "# fig_pred = plot_phase_diagram(test_df,title=f\"Predicted Phase Diagram (Ours)\",\n",
    "#                               train_idxes=train_idxes,hue_order=hue_order,)"
   ]
  },
  {
   "cell_type": "markdown",
   "id": "e07dbecb",
   "metadata": {},
   "source": [
    "Let us exclude the training points over the phase diagram -- to obtain a test set for quantative evaluation"
   ]
  },
  {
   "cell_type": "code",
   "execution_count": 33,
   "id": "84adc83a-1cfe-4a4e-b3ce-00f485c60b97",
   "metadata": {},
   "outputs": [],
   "source": [
    "test_idxes = np.sort(plot_df.index[~np.isin(plot_df.index,train_idxes)])"
   ]
  },
  {
   "cell_type": "code",
   "execution_count": 34,
   "id": "7e2a301d",
   "metadata": {},
   "outputs": [
    {
     "data": {
      "text/plain": [
       "array([ 8,  9, 10, 11, 12, 13, 14, 15, 16, 17])"
      ]
     },
     "execution_count": 34,
     "metadata": {},
     "output_type": "execute_result"
    }
   ],
   "source": [
    "test_idxes[:10]"
   ]
  },
  {
   "cell_type": "markdown",
   "id": "c9edaa59",
   "metadata": {},
   "source": [
    "The prediction error of our model on test points in the phase diagram"
   ]
  },
  {
   "cell_type": "code",
   "execution_count": 35,
   "id": "994b3f9b",
   "metadata": {},
   "outputs": [
    {
     "data": {
      "text/plain": [
       "np.float64(0.17084161755769994)"
      ]
     },
     "execution_count": 35,
     "metadata": {},
     "output_type": "execute_result"
    }
   ],
   "source": [
    "# Option 1: Use test_df's actual indices\n",
    "pred_order_params = test_df[order_params].values\n",
    "true_order_params = meta_dataset.info.loc[test_df.index][order_params].values\n",
    "err_CGM = np.sqrt(np.mean((pred_order_params - true_order_params)**2))\n",
    "err_CGM"
   ]
  },
  {
   "cell_type": "code",
   "execution_count": 36,
   "id": "7f27220a-e7f8-4fde-b19f-6bf1319d101d",
   "metadata": {},
   "outputs": [],
   "source": [
    "def compute_acc(pred_df,true_df,idxes=None):\n",
    "    if idxes is not None:\n",
    "        pred_df = pred_df.loc[idxes]\n",
    "        true_df = true_df.loc[idxes]\n",
    "    V = pred_df['phase'].values == true_df['phase'].values\n",
    "    clf_acc = np.mean(V)\n",
    "    return clf_acc"
   ]
  },
  {
   "cell_type": "code",
   "execution_count": 37,
   "id": "4d64609c",
   "metadata": {},
   "outputs": [],
   "source": [
    "# meta_dataset.info.loc[common_idxes]"
   ]
  },
  {
   "cell_type": "code",
   "execution_count": 38,
   "id": "7046ee6e",
   "metadata": {},
   "outputs": [
    {
     "name": "stdout",
     "output_type": "stream",
     "text": [
      "10\n",
      "Classification accuracy: 80.00%\n"
     ]
    }
   ],
   "source": [
    "# Only use indices that exist in test_df\n",
    "common_idxes = test_df.index \n",
    "print(len(common_idxes)) \n",
    "clf_acc = compute_acc(\n",
    "    pred_df=test_df,\n",
    "    true_df=meta_dataset.info,\n",
    "    idxes=common_idxes\n",
    ")\n",
    "print(f\"Classification accuracy: {clf_acc:.2%}\")"
   ]
  },
  {
   "cell_type": "code",
   "execution_count": null,
   "id": "77a3480b",
   "metadata": {},
   "outputs": [],
   "source": []
  },
  {
   "cell_type": "code",
   "execution_count": null,
   "id": "75128414",
   "metadata": {},
   "outputs": [],
   "source": []
  },
  {
   "cell_type": "code",
   "execution_count": null,
   "id": "6384f7fb",
   "metadata": {},
   "outputs": [],
   "source": []
  },
  {
   "cell_type": "code",
   "execution_count": null,
   "id": "fe9eac92",
   "metadata": {},
   "outputs": [],
   "source": []
  }
 ],
 "metadata": {
  "kernelspec": {
   "display_name": "my_env",
   "language": "python",
   "name": "python3"
  },
  "language_info": {
   "codemirror_mode": {
    "name": "ipython",
    "version": 3
   },
   "file_extension": ".py",
   "mimetype": "text/x-python",
   "name": "python",
   "nbconvert_exporter": "python",
   "pygments_lexer": "ipython3",
   "version": "3.12.8"
  }
 },
 "nbformat": 4,
 "nbformat_minor": 5
}
